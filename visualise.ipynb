{
 "cells": [
  {
   "cell_type": "markdown",
   "metadata": {},
   "source": [
    "# Biocatalysis Model Retraining"
   ]
  },
  {
   "cell_type": "code",
   "execution_count": 47,
   "metadata": {},
   "outputs": [],
   "source": [
    "import re\n",
    "import string\n",
    "from typing import List\n",
    "from pathlib import Path\n",
    "import numpy as np\n",
    "import pandas as pd\n",
    "import seaborn as sns\n",
    "import matplotlib.pyplot as plt\n",
    "from matplotlib import rcParams\n",
    "from matplotlib.axes import Axes\n",
    "\n",
    "sns.set_theme(context=\"paper\", style=\"ticks\", font=\"Arial\", font_scale=0.75)\n"
   ]
  },
  {
   "cell_type": "markdown",
   "metadata": {},
   "source": [
    "## Load Data"
   ]
  },
  {
   "cell_type": "markdown",
   "metadata": {},
   "source": [
    "### Helper Functions"
   ]
  },
  {
   "cell_type": "code",
   "execution_count": 48,
   "metadata": {},
   "outputs": [],
   "source": [
    "def get_ec(ec_smiles: str) -> List[str]:\n",
    "    ec = ec_smiles\n",
    "    pre_ec_prod = ec_smiles.replace(\">>\", \" \").replace(\"|\", \" \").split()\n",
    "\n",
    "    if \">>\" in ec_smiles and \"|\" in ec_smiles and len(pre_ec_prod) == 3:\n",
    "        ec = pre_ec_prod[1]\n",
    "    elif \">>\" in ec_smiles:\n",
    "        ec = \"None.None.None\"\n",
    "\n",
    "    return list(ec.split(\".\"))\n",
    "\n",
    "def load_data(folder: str, set_name: str) -> pd.DataFrame:\n",
    "    data = { \n",
    "        \"EC1_GT\": [], \"EC2_GT\": [], \"EC3_GT\": [], \"EC1_PRED\": [], \n",
    "        \"EC2_PRED\": [], \"EC3_PRED\": [], \"GROUND_TRUTH\": [], \"PREDICTION\": [], \n",
    "        \"CORRECT\": [], \"MODEL\": [], \"K\": [], \"SET_NAME\": []\n",
    "    }\n",
    "\n",
    "    for correct in [True, False]:\n",
    "        for model in [\"bw\", \"fw\", \"rtrp\"]:\n",
    "            for k in range(1, 6):\n",
    "                correct_file_name = \"correct\" if correct else \"incorrect\"\n",
    "                file = Path(folder, f\"{correct_file_name}_{model}_{k}.txt\")\n",
    "                    \n",
    "                with open(file, \"r\") as f:\n",
    "                    for line in f:\n",
    "                        rxn_gt = rxn_pred = \"\"\n",
    "                        ec_gt = ec_pred = []\n",
    "\n",
    "                        if correct:\n",
    "                            rxn_gt = rxn_pred = line.strip()\n",
    "                            ec_gt = ec_pred = get_ec(rxn_gt)\n",
    "                        else:\n",
    "                            rxn_gt, rxn_pred = line.strip().split(\",\")\n",
    "                            ec_gt = get_ec(rxn_gt)\n",
    "                            ec_pred = get_ec(rxn_pred)\n",
    "                        \n",
    "                        data[\"EC1_GT\"].append(ec_gt[0])\n",
    "                        data[\"EC2_GT\"].append(ec_gt[1])\n",
    "                        data[\"EC3_GT\"].append(ec_gt[2])\n",
    "                        data[\"EC1_PRED\"].append(ec_pred[0])\n",
    "                        data[\"EC2_PRED\"].append(ec_pred[1])\n",
    "                        data[\"EC3_PRED\"].append(ec_pred[2])\n",
    "                        data[\"GROUND_TRUTH\"].append(rxn_gt)\n",
    "                        data[\"PREDICTION\"].append(rxn_pred)\n",
    "                        data[\"CORRECT\"].append(correct)\n",
    "                        data[\"MODEL\"].append(model)\n",
    "                        data[\"K\"].append(k)\n",
    "                        data[\"SET_NAME\"].append(set_name)\n",
    "    \n",
    "    return pd.DataFrame(data)\n",
    "\n",
    "def load_data_train(src: str, tgt: str, set_name: str) -> pd.DataFrame:\n",
    "    srcs = [re.sub(r\"[vut\\[\\]]\", \"\", line.strip().replace(\" \", \"\").replace(\"][\", \".\")) for line in open(src, \"r\")]\n",
    "    tgts = [line.strip().replace(\" \", \"\") for line in open(tgt, \"r\")]\n",
    "    data = {\"GROUND_TRUTH\": [], \"EC1_GT\": [], \"EC2_GT\": [], \"EC3_GT\": [], \"SET_NAME\": []}\n",
    "\n",
    "    for s, t in zip(srcs, tgts):\n",
    "        rxn = f\"{s}>>{t}\"\n",
    "        data[\"GROUND_TRUTH\"].append(rxn)\n",
    "        ec = get_ec(rxn)\n",
    "        data[\"EC1_GT\"].append(ec[0])\n",
    "        data[\"EC2_GT\"].append(ec[1])\n",
    "        data[\"EC3_GT\"].append(ec[2])\n",
    "        data[\"SET_NAME\"].append(set_name)\n",
    "\n",
    "    return pd.DataFrame(data)\n",
    "\n",
    "\n",
    "def index_subplots(\n",
    "    axs: Axes,\n",
    "    font_size: float = 20,\n",
    "    font_weight: str = \"bold\",\n",
    "    font_family: str = rcParams[\"font.family\"],\n",
    "    x: float = -0.1,\n",
    "    y: float = 1.1,\n",
    "    uppercase: bool = False,\n",
    "    prefix: str = \"\",\n",
    "    suffix: str = \"\",\n",
    "    offset: int = 0,\n",
    "):\n",
    "    int_to_char_map = string.ascii_lowercase\n",
    "    if uppercase:\n",
    "        int_to_char_map = string.ascii_uppercase\n",
    "\n",
    "    for i, ax in enumerate(axs):\n",
    "        ax.text(\n",
    "            x,\n",
    "            y,\n",
    "            prefix + int_to_char_map[i + offset] + suffix,\n",
    "            transform=ax.transAxes,\n",
    "            size=font_size,\n",
    "            weight=font_weight,\n",
    "            fontfamily=font_family,\n",
    "        )"
   ]
  },
  {
   "cell_type": "markdown",
   "metadata": {},
   "source": [
    "### Load the Data using the Helper Functions"
   ]
  },
  {
   "cell_type": "code",
   "execution_count": 4,
   "metadata": {},
   "outputs": [],
   "source": [
    "df_original = load_data(\"original\", \"original\")\n",
    "df_retrained = load_data(\"retrained/300000\", \"retrained\")\n",
    "df = pd.concat([df_original, df_retrained])\n",
    "\n",
    "df_t_original = load_data_train(\"original/src-train.txt\", \"original/tgt-train.txt\", \"original\")\n",
    "df_t_retrained = load_data_train(\"retrained/src-train.txt\", \"retrained/tgt-train.txt\", \"retrained\")\n",
    "df_training = pd.concat([df_t_original, df_t_retrained])\n",
    "\n",
    "# Remove class 7 as there are only very few examples\n",
    "df = df[df[\"EC1_GT\"] != \"7\"]\n",
    "df_training = df_training[df_training[\"EC1_GT\"] != \"7\"]"
   ]
  },
  {
   "cell_type": "markdown",
   "metadata": {},
   "source": [
    "## Process Data"
   ]
  },
  {
   "cell_type": "markdown",
   "metadata": {},
   "source": [
    "### Training Data"
   ]
  },
  {
   "cell_type": "code",
   "execution_count": 5,
   "metadata": {},
   "outputs": [],
   "source": [
    "df_t_size = df_training.groupby(\n",
    "    by=[\"EC1_GT\", \"EC2_GT\", \"EC3_GT\", \"SET_NAME\"]\n",
    ").size().reset_index().rename(columns={0: \"TRAINING_SAMPLE_COUNT\"})\n",
    "\n",
    "df_t_pivot = df_t_size.pivot(index=[\"EC1_GT\", \"EC2_GT\", \"EC3_GT\"], columns=\"SET_NAME\").reset_index()\n",
    "df_t_pivot = df_t_pivot.fillna(0)\n",
    "df_t_pivot.columns = df_t_pivot.columns.droplevel()\n",
    "df_t_pivot = df_t_pivot.reset_index()\n",
    "df_t_pivot.columns = [1, \"EC1_GT\", \"EC2_GT\", \"EC3_GT\", \"ORIGINAL\", \"RETRAINED\"]\n",
    "\n",
    "df_t_pivot = df_t_pivot.sort_values(by=\"EC1_GT\")\n",
    "df_t_pivot[\"CHANGE\"] = df_t_pivot[\"RETRAINED\"] / df_t_pivot[\"ORIGINAL\"] - 1\n",
    "\n",
    "df_t_diversity = df_training.drop(columns=[\"GROUND_TRUTH\"]).value_counts().reset_index().rename(columns={0: \"COUNT\"})\n",
    "df_t_diversity = df_t_diversity.groupby(by=[\"EC1_GT\", \"SET_NAME\"]).count().reset_index()"
   ]
  },
  {
   "cell_type": "markdown",
   "metadata": {},
   "source": [
    "### Prediction Data"
   ]
  },
  {
   "cell_type": "code",
   "execution_count": 6,
   "metadata": {},
   "outputs": [],
   "source": [
    "df_size = df.groupby(\n",
    "    by=[\"EC1_GT\", \"EC2_GT\", \"EC3_GT\", \"MODEL\", \"K\", \"CORRECT\", \"SET_NAME\"]\n",
    ").size().reset_index().rename(columns={0: \"COUNT\"})\n",
    "\n",
    "\n",
    "df_pivot = df_size.pivot(index=[\"EC1_GT\", \"EC2_GT\", \"EC3_GT\", \"SET_NAME\", \"K\", \"MODEL\"], columns=\"CORRECT\").reset_index()\n",
    "df_pivot = df_pivot.fillna(0)\n",
    "df_pivot.columns = df_pivot.columns.droplevel()\n",
    "df_pivot = df_pivot.reset_index()\n",
    "df_pivot.columns = [1, \"EC1_GT\", \"EC2_GT\", \"EC3_GT\", \"SET_NAME\", \"K\", \"MODEL\", \"N_INCORRECT\", \"N_CORRECT\"]\n",
    "df_pivot[\"N_TOTAL\"] = df_pivot[\"N_INCORRECT\"] + df_pivot[\"N_CORRECT\"]\n",
    "df_pivot[\"ACCURACY\"] = df_pivot[\"N_CORRECT\"] / df_pivot[\"N_TOTAL\"]\n",
    "df_pivot[\"EC2\"] = df_pivot[\"EC1_GT\"] + \".\" + df_pivot[\"EC2_GT\"]"
   ]
  },
  {
   "cell_type": "markdown",
   "metadata": {},
   "source": [
    "### Combined Training and Prediction Data"
   ]
  },
  {
   "cell_type": "code",
   "execution_count": 7,
   "metadata": {},
   "outputs": [],
   "source": [
    "df_joined_size = pd.merge(df_pivot, df_t_size, on=[\"EC1_GT\", \"EC2_GT\", \"EC3_GT\", \"SET_NAME\"], how=\"left\")\n",
    "df_joined_size = df_joined_size.pivot(\n",
    "    index=[\"EC1_GT\", \"EC2_GT\", \"EC3_GT\", \"K\", \"MODEL\"], \n",
    "    columns=\"SET_NAME\", values=[\"ACCURACY\", \"TRAINING_SAMPLE_COUNT\"]\n",
    ").reset_index()\n",
    "df_joined_size.columns = df_joined_size.columns.to_series().str.join(\"_\").str.upper().str.strip(\"_\")\n",
    "\n",
    "df_joined_size[\"TRAINING_SAMPLE_COUNT_DIFF\"] = df_joined_size[\"TRAINING_SAMPLE_COUNT_RETRAINED\"] - df_joined_size[\"TRAINING_SAMPLE_COUNT_ORIGINAL\"]\n",
    "df_joined_size[\"ACCURACY_DIFF\"] = df_joined_size[\"ACCURACY_RETRAINED\"] - df_joined_size[\"ACCURACY_ORIGINAL\"]"
   ]
  },
  {
   "cell_type": "markdown",
   "metadata": {},
   "source": [
    "## Visualisations"
   ]
  },
  {
   "cell_type": "markdown",
   "metadata": {},
   "source": [
    "### Training Data Comparison"
   ]
  },
  {
   "cell_type": "code",
   "execution_count": 8,
   "metadata": {},
   "outputs": [
    {
     "data": {
      "text/plain": [
       "<AxesSubplot:xlabel='EC1_GT', ylabel='CHANGE'>"
      ]
     },
     "execution_count": 8,
     "metadata": {},
     "output_type": "execute_result"
    },
    {
     "name": "stderr",
     "output_type": "stream",
     "text": [
      "findfont: Font family ['Arial'] not found. Falling back to DejaVu Sans.\n",
      "findfont: Font family ['Arial'] not found. Falling back to DejaVu Sans.\n"
     ]
    },
    {
     "data": {
      "image/png": "[encoded data removed]",
      "text/plain": [
       "<Figure size 432x288 with 1 Axes>"
      ]
     },
     "metadata": {
      "needs_background": "light"
     },
     "output_type": "display_data"
    }
   ],
   "source": [
    "fig, ax = plt.subplots(1, 1)\n",
    "\n",
    "sns.boxplot(\n",
    "    data=df_t_pivot, \n",
    "    x=\"EC1_GT\", y=\"CHANGE\",\n",
    "    showfliers=False,\n",
    "    ax = ax\n",
    ")"
   ]
  },
  {
   "cell_type": "markdown",
   "metadata": {},
   "source": [
    "### Performance Comparison"
   ]
  },
  {
   "cell_type": "code",
   "execution_count": 96,
   "metadata": {},
   "outputs": [
    {
     "data": {
      "image/png": "[encoded data removed]",
      "text/plain": [
       "<Figure size 252.284x252.284 with 4 Axes>"
      ]
     },
     "metadata": {},
     "output_type": "display_data"
    }
   ],
   "source": [
    "fig, axs = plt.subplots(2, 2, figsize=(3.50394, 3.50394))\n",
    "\n",
    "\n",
    "df_sub = df_pivot[(df_pivot[\"K\"] == 1) & (df_pivot[\"N_TOTAL\"] <= 999.0) & (df_pivot[\"N_TOTAL\"] > 1.0)]\n",
    "\n",
    "sns.boxplot(\n",
    "    x=\"EC1_GT\", y=\"ACCURACY\", \n",
    "    hue=\"SET_NAME\", palette=\"rocket\", \n",
    "    linewidth=1, fliersize=2.0,\n",
    "    data=df_sub[df_sub.MODEL == \"fw\"], \n",
    "    ax = axs[0][0]\n",
    ")\n",
    "axs[0][0].legend([],[], frameon=False)\n",
    "axs[0][0].set_ylabel(\"Accuracy\")\n",
    "axs[0][0].set_xlabel(\"Enzyme Class (EC1)\")\n",
    "\n",
    "sns.boxplot(\n",
    "    x=\"EC1_GT\", y=\"ACCURACY\", \n",
    "    hue=\"SET_NAME\", palette=\"rocket\", \n",
    "    linewidth=1, fliersize=2.0,\n",
    "    data=df_sub[df_sub.MODEL == \"bw\"], \n",
    "    ax = axs[0][1]\n",
    ")\n",
    "axs[0][1].legend([],[], frameon=False)\n",
    "axs[0][1].yaxis.set_ticklabels([])\n",
    "axs[0][1].set_ylabel(\"\")\n",
    "axs[0][1].set_xlabel(\"Enzyme Class (EC1)\")\n",
    "\n",
    "handles, labels = axs[0][1].get_legend_handles_labels()\n",
    "fig.legend(\n",
    "    handles, labels, loc='upper right', ncol=2, \n",
    "    frameon=False, handlelength=0.5, handletextpad=0.25, columnspacing=0.5\n",
    ")\n",
    "\n",
    "sns.boxplot(\n",
    "    data=df_t_pivot, \n",
    "    x=\"EC1_GT\", y=\"CHANGE\",\n",
    "    showfliers=False,\n",
    "    color=\"#c24167\",\n",
    "    linewidth=1,\n",
    "    ax = axs[1][0]\n",
    ")\n",
    "axs[1][0].set_ylabel(\"Sample Change [fold]\")\n",
    "axs[1][0].set_xlabel(\"Enzyme Class (EC1)\")\n",
    "\n",
    "df_joined_size_subset = df_joined_size[\n",
    "    (df_joined_size.K == 1) & (df_joined_size.MODEL == \"bw\") & \n",
    "    (df_joined_size.TRAINING_SAMPLE_COUNT_DIFF > 0)\n",
    "]\n",
    "\n",
    "sns.kdeplot(\n",
    "    data=df_joined_size_subset,\n",
    "    x=\"ACCURACY_DIFF\", \n",
    "    y=\"TRAINING_SAMPLE_COUNT_DIFF\",\n",
    "    levels=6,\n",
    "    color=\"#c24167\",\n",
    "    ax=axs[1][1]\n",
    ")\n",
    "\n",
    "sns.scatterplot(\n",
    "    data=df_joined_size_subset,\n",
    "    x=\"ACCURACY_DIFF\", \n",
    "    y=\"TRAINING_SAMPLE_COUNT_DIFF\",\n",
    "    marker=\"o\",\n",
    "    color=\"#000\",\n",
    "    linewidth=0,\n",
    "    s=2\n",
    ")\n",
    "\n",
    "axs[1][1].legend([],[], frameon=False)\n",
    "axs[1][1].set_ylim((None, 2600))\n",
    "axs[1][1].set_ylabel(\"Sample Change [N]\")\n",
    "axs[1][1].set_xlabel(\"Accuracy Change\")\n",
    "axs[1][1].ticklabel_format(style=\"sci\", scilimits=[0,2])\n",
    "\n",
    "index_subplots(axs.flat, font_size=8, y=1.05)\n",
    "plt.tight_layout()"
   ]
  },
  {
   "cell_type": "markdown",
   "metadata": {},
   "source": [
    "### Performance versus Training Set Size"
   ]
  },
  {
   "cell_type": "code",
   "execution_count": 216,
   "metadata": {},
   "outputs": [
    {
     "name": "stdout",
     "output_type": "stream",
     "text": [
      "119\n"
     ]
    },
    {
     "data": {
      "text/plain": [
       "<seaborn.axisgrid.JointGrid at 0x11d08a56f10>"
      ]
     },
     "execution_count": 216,
     "metadata": {},
     "output_type": "execute_result"
    },
    {
     "data": {
      "image/png": "[encoded data removed]",
      "text/plain": [
       "<Figure size 432x432 with 3 Axes>"
      ]
     },
     "metadata": {
      "needs_background": "light"
     },
     "output_type": "display_data"
    },
    {
     "ename": "",
     "evalue": "",
     "output_type": "error",
     "traceback": [
      "\u001b[1;31mThe Kernel crashed while executing code in the the current cell or a previous cell. Please review the code in the cell(s) to identify a possible cause of the failure. Click <a href='https://aka.ms/vscodeJupyterKernelCrash'>here</a> for more info. View Jupyter <a href='command:jupyter.viewOutput'>log</a> for further details."
     ]
    }
   ],
   "source": [
    "df_joined_size_subset = df_joined_size[\n",
    "    (df_joined_size.K == 1) & (df_joined_size.MODEL == \"bw\") & \n",
    "    (df_joined_size.TRAINING_SAMPLE_COUNT_DIFF > 0)\n",
    "]\n",
    "\n",
    "g = sns.jointplot(\n",
    "    data=df_joined_size_subset,\n",
    "    x=\"ACCURACY_DIFF\", \n",
    "    y=\"TRAINING_SAMPLE_COUNT_DIFF\",\n",
    "    color=\"r\",\n",
    "    marker=\"+\", s=100\n",
    ")\n",
    "\n",
    "g.plot_joint(\n",
    "    sns.kdeplot, color=\"k\", \n",
    "    zorder=0, levels=6)"
   ]
  }
 ],
 "metadata": {
  "kernelspec": {
   "display_name": "Python 3.9.12 ('bcm-retrain')",
   "language": "python",
   "name": "python3"
  },
  "language_info": {
   "codemirror_mode": {
    "name": "ipython",
    "version": 3
   },
   "file_extension": ".py",
   "mimetype": "text/x-python",
   "name": "python",
   "nbconvert_exporter": "python",
   "pygments_lexer": "ipython3",
   "version": "3.9.12"
  },
  "orig_nbformat": 4,
  "vscode": {
   "interpreter": {
    "hash": "cd004396017836642db3acabd2f9b5f3ecb8cf4945bc1006cce68eca15dc3687"
   }
  }
 },
 "nbformat": 4,
 "nbformat_minor": 2
}
